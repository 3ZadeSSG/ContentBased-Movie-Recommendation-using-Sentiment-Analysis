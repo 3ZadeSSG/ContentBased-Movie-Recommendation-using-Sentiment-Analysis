{
 "cells": [
  {
   "cell_type": "code",
   "execution_count": 0,
   "metadata": {
    "colab": {},
    "colab_type": "code",
    "id": "oMF2OH0vtPkT"
   },
   "outputs": [],
   "source": [
    "# All necessary imports to perform the training\n",
    "from processedDataHelper import *\n",
    "import time\n",
    "import torch\n",
    "import torch.nn as nn\n",
    "from torch.utils.data import TensorDataset,DataLoader\n",
    "from myModelHelper import *\n",
    "import matplotlib.pyplot as plt\n",
    "from torch.optim import Optimizer\n",
    "import  math"
   ]
  },
  {
   "cell_type": "code",
   "execution_count": 0,
   "metadata": {
    "colab": {
     "base_uri": "https://localhost:8080/",
     "height": 122
    },
    "colab_type": "code",
    "id": "vtT6P7FntPkW",
    "outputId": "8020c598-5157-440d-c40d-6fe03768e87e"
   },
   "outputs": [
    {
     "name": "stdout",
     "output_type": "stream",
     "text": [
      "Go to this URL in a browser: https://accounts.google.com/o/oauth2/auth?client_id=947318989803-6bn6qk8qdgf4n4g3pfee6491hc0brc4i.apps.googleusercontent.com&redirect_uri=urn%3Aietf%3Awg%3Aoauth%3A2.0%3Aoob&scope=email%20https%3A%2F%2Fwww.googleapis.com%2Fauth%2Fdocs.test%20https%3A%2F%2Fwww.googleapis.com%2Fauth%2Fdrive%20https%3A%2F%2Fwww.googleapis.com%2Fauth%2Fdrive.photos.readonly%20https%3A%2F%2Fwww.googleapis.com%2Fauth%2Fpeopleapi.readonly&response_type=code\n",
      "\n",
      "Enter your authorization code:\n",
      "··········\n",
      "Mounted at /content/drive/\n"
     ]
    }
   ],
   "source": [
    "# Mount the google drive to save the finally loaded model to drive\n",
    "from google.colab import files,drive\n",
    "drive.mount('/content/drive/')"
   ]
  },
  {
   "cell_type": "code",
   "execution_count": 0,
   "metadata": {
    "colab": {},
    "colab_type": "code",
    "id": "TFOLVQH-tPkb"
   },
   "outputs": [],
   "source": [
    "class SentimentNetwork(nn.Module):\n",
    "  def __init__(self,vocabulary_size,output_size,embedding_dimension,hidden_dimension,number_of_layers,dropout_probability=0.5):\n",
    "    super(SentimentNetwork,self).__init__()\n",
    "    # class data for weight matrix size\n",
    "    self.output_size=output_size\n",
    "    self.number_of_layers=number_of_layers\n",
    "    self.hidden_dimension=hidden_dimension\n",
    "    # create the embedding layer to reduce dimension \n",
    "    # and LSTM layer containing LSTM cells \n",
    "    self.embedding=nn.Embedding(vocabulary_size,embedding_dimension)\n",
    "    self.lstm=nn.LSTM(embedding_dimension,hidden_dimension,number_of_layers,dropout=dropout_probability,batch_first=True)\n",
    "    \n",
    "    # Create dropout layer as a regularization method to reduct overfitting\n",
    "    # this will disable some units in forward pass, thus preventing \n",
    "    # a particular set of node's weights getting updated while others remain unused\n",
    "    self.dropout=nn.Dropout(dropout_probability)\n",
    "    \n",
    "    # attach final  linear layer with sigmoid function\n",
    "    self.finalLayer=nn.Linear(hidden_dimension,output_size)\n",
    "    self.sigmoid=nn.Sigmoid()\n",
    "   \n",
    "  def forward(self,x,hidden):\n",
    "    batch_size=x.size(0)\n",
    "    embedding_output=self.embedding(x)\n",
    "    \n",
    "    #lstm will take the current input and hidden state as input \n",
    "    # and will generate the output to be feed at the linear layer\n",
    "    lstm_output,hidden=self.lstm(embedding_output,hidden)\n",
    "    lstm_output=lstm_output.contiguous().view(-1,self.hidden_dimension)\n",
    "    \n",
    "    output=self.dropout(lstm_output)\n",
    "    output=self.finalLayer(output)\n",
    "    \n",
    "    #call the sigmoid function on current output of final layer\n",
    "    sigmoid_output=self.sigmoid(output)\n",
    "    sigmoid_output=sigmoid_output.view(batch_size,-1)\n",
    "    #only get the last position output for all batches\n",
    "    sigmoid_output=sigmoid_output[:,-1]\n",
    "    \n",
    "    #current sigmoid output and a hidden state to be fed as input for next pass\n",
    "    # into the LSTM cells, so that they will be dependent on the previous state\n",
    "    return sigmoid_output,hidden\n",
    "  \n",
    "  def initialize_hidden_state(self,batch_size):\n",
    "    # At first the hidden state will not hold any information, hence we need to\n",
    "    # initialize them with zeros\n",
    "    # Number_of_Layers x Batch_Size x Hidden_Dimension\n",
    "    weight=next(self.parameters()).data\n",
    "    if(torch.cuda.is_available()):\n",
    "      # if GPU is available then initialize the weights parallely\n",
    "      hidden=(weight.new(self.number_of_layers,batch_size,self.hidden_dimension).zero_().cuda(),weight.new(self.number_of_layers,batch_size,self.hidden_dimension).zero_().cuda())\n",
    "    else:\n",
    "      hidden=(weight.new(self.number_of_layers,batch_size,self.hidden_dimension).zero_(),weight.new(self.number_of_layers,batch_size,self.hidden_dimension).zero_())\n",
    "      \n",
    "    return hidden"
   ]
  },
  {
   "cell_type": "code",
   "execution_count": 0,
   "metadata": {
    "colab": {},
    "colab_type": "code",
    "id": "SIiG19NytPkh"
   },
   "outputs": [],
   "source": [
    "def buildNetwork():\n",
    "  #Our model parameters\n",
    "  vocabulary_size=len(vocab_to_int)+1\n",
    "  output_size=1\n",
    "  embedding_dimension=400\n",
    "  hidden_dimension=256\n",
    "  number_of_layers=3\n",
    "  \n",
    "  model=SentimentNetwork(vocabulary_size,output_size,embedding_dimension,hidden_dimension,number_of_layers)\n",
    "  \n",
    "  # Alpha value(Step size)\n",
    "  learning_rate=0.001\n",
    "  \n",
    "  # Error calculating formula (Mean Square Error)\n",
    "  criterion = nn.MSELoss() \n",
    " \n",
    "  #Adam optimization technique for first-order gradient-based optimization\n",
    "  #optimizer=AdamOptimizerAlgorithm(model.parameters(),lr=learning_rate)\n",
    "  optimizer=torch.optim.Adam(model.parameters(),lr=learning_rate)\n",
    "  return model,criterion,optimizer"
   ]
  },
  {
   "cell_type": "code",
   "execution_count": 0,
   "metadata": {
    "colab": {},
    "colab_type": "code",
    "id": "O5C0_cfJtPkj"
   },
   "outputs": [],
   "source": [
    "def trainNetwork(model,epochs,print_interval,criterion,optimizer):\n",
    "  Iteration=[]\n",
    "  Training_Loss=[]\n",
    "  Validation_Loss=[]\n",
    "  \n",
    "  minimum_validation_loss=np.Inf\n",
    "  \n",
    "  # Since each epoch goes over all data and\n",
    "  # each iteration goes over the data in batches\n",
    "  count=0\n",
    "  \n",
    "  # move model to GPU \n",
    "  #model.cuda()\n",
    "  \n",
    "  #put the model into training model so that the gradients will \n",
    "  # be calculated\n",
    "  model.train()\n",
    "  for i in range(epochs):\n",
    "    # for each epoch perform a forward pass for all batches\n",
    "    # and around epoch 4 reduce the learning rate\n",
    "    hidden_state=model.initialize_hidden_state(batch_size)\n",
    "    \n",
    "    if(i==3):\n",
    "      print(\"\\n\\nReducing the learning rate!\\n\")\n",
    "      optimizer=torch.optim.Adam(model.parameters(),lr=0.0000002)\n",
    "    \n",
    "    for inputs,labels in train_loader:\n",
    "      count+=1\n",
    "      # move the data to GPU\n",
    "      inputs,labels=inputs.cuda(),labels.cuda()\n",
    "      \n",
    "      #create new variable for hidden state otherwise it will include all\n",
    "      #pervious states\n",
    "      hidden_state=tuple([element.data for element in hidden_state])\n",
    "      \n",
    "      model.zero_grad()\n",
    "      \n",
    "      inputs=inputs.long()\n",
    "      output,hidden_state=model(inputs,hidden_state)\n",
    "      \n",
    "      #calculate the loss to backpropagare to model\n",
    "      #loss=torch.sqrt(criterion(output.squeeze(),labels.float()))\n",
    "      loss=criterion(output.squeeze(),labels.float())\n",
    "      loss.backward()\n",
    "\n",
    "      \n",
    "      #nn.utils.clip_grad_norm_(model.parameters(),clip)\n",
    "      optimizer.step()\n",
    "      \n",
    "      if(count%print_interval==0):\n",
    "        temp_hidden=model.initialize_hidden_state(batch_size)\n",
    "        temp_losses=[]\n",
    "        model.eval()\n",
    "        for inputs,labels in validation_loader:\n",
    "          temp_hidden=tuple([element.data for element in temp_hidden])\n",
    "          inputs,labels=inputs.cuda().long(),labels.cuda()\n",
    "          \n",
    "          output,temp_hidden=model(inputs,temp_hidden)\n",
    "          validation_loss=criterion(output.squeeze(),labels.float())\n",
    "          temp_losses.append(validation_loss.item())\n",
    "        \n",
    "        model.train()\n",
    "        print(\"Epoch: {}\\tIteration: {}\\tTraining Loss: {:.7f}\\tValidation Loss: {:.7f}\".format(\n",
    "        (i+1),count,loss.item(),np.mean(temp_losses)))\n",
    "        Iteration.append(count)\n",
    "        Training_Loss.append(loss.item())\n",
    "        Validation_Loss.append(np.mean(temp_losses))\n",
    "        \n",
    "        if np.mean(temp_losses)<minimum_validation_loss:\n",
    "            save_checkpoint(model,\"checkpoint.pth\")\n",
    "            minimum_validation_loss=np.mean(temp_losses)\n",
    "            print(\"Validation loss decreased  hence saving checkpoint successfully\")\n",
    "                  \n",
    "         \n",
    "\n",
    "    #Plot the Training and Validation loss\n",
    "  plt.plot(Iteration,Training_Loss)\n",
    "  plt.plot(Iteration,Validation_Loss)\n",
    "  plt.xlabel('Iteration')\n",
    "  plt.ylabel('Loss')\n",
    "  plt.ylim(0.0,1.0)\n",
    "  plt.legend(['Training Loss','Validation Loss'], loc='upper left')\n",
    "  plt.show()"
   ]
  },
  {
   "cell_type": "code",
   "execution_count": 0,
   "metadata": {
    "colab": {},
    "colab_type": "code",
    "id": "oJrUxK54tPkm"
   },
   "outputs": [],
   "source": [
    "def save_checkpoint(model,fileLocation):\n",
    "  # save the current state_dict which contains all the weights of the network\n",
    "  torch.save(model.state_dict(),fileLocation)"
   ]
  },
  {
   "cell_type": "code",
   "execution_count": 0,
   "metadata": {
    "colab": {},
    "colab_type": "code",
    "id": "n9VpgrwttPkp"
   },
   "outputs": [],
   "source": [
    "# To build the network with same architecture and load the checkpoint file\n",
    "def load_Checkpoint(fileLocation):\n",
    "  model,criterion,optimizer=buildNetwork()\n",
    "  model.load_state_dict(torch.load(fileLocation))\n",
    "  return model,criterion"
   ]
  },
  {
   "cell_type": "code",
   "execution_count": 0,
   "metadata": {
    "colab": {},
    "colab_type": "code",
    "id": "0ryC2bp_tPkr"
   },
   "outputs": [],
   "source": [
    "def checkAccuracy(model,test_loader):\n",
    "  #move model to GPU\n",
    "  model.cuda()\n",
    "  \n",
    "  test_losses=[]\n",
    "  correct_prediction=0\n",
    "  \n",
    "  #set initial state to zero\n",
    "  hidden_state=model.initialize_hidden_state(batch_size)\n",
    "  \n",
    "  # set the model into evaluation mode, so that we don't need to calculate\n",
    "  # the gradients\n",
    "  model.eval()\n",
    "  \n",
    "  for inputs,labels in test_loader:\n",
    "    \n",
    "    # move the data and labels into GPU\n",
    "    inputs,labels=inputs.cuda().long(),labels.cuda().long()\n",
    "    \n",
    "    output,hidden_state=model(inputs,hidden_state)\n",
    "    # labels are initially long or int, we need to conver them into float\n",
    "    # so that loss cab be calculated in float value\n",
    "    test_loss=criterion(output.squeeze(),labels.float())\n",
    "    test_losses.append(test_loss.item())\n",
    "    \n",
    "    # get the prediction either 1 or 0\n",
    "    prediction=torch.round(output.squeeze())\n",
    "    \n",
    "    correct_tensor=prediction.eq(labels.float().view_as(prediction))   \n",
    "    correct=np.squeeze(correct_tensor.cpu().numpy())\n",
    "    correct_prediction+=np.sum(correct)\n",
    "  \n",
    "  print(\"Accuracy: {:.4f}\".format(correct_prediction/len(test_loader.dataset)))"
   ]
  },
  {
   "cell_type": "code",
   "execution_count": 0,
   "metadata": {
    "colab": {},
    "colab_type": "code",
    "id": "Z60mOLDAtPk1"
   },
   "outputs": [],
   "source": [
    "# Tokenize passed sentences\n",
    "def tokenize_sentence(sentence):\n",
    "  sentence=sentence.lower()\n",
    "  \n",
    "  #remove punctuation\n",
    "  sentence=''.join([letter for letter in sentence if letter not in punctuation])\n",
    "  \n",
    "  test_words=sentence.split()\n",
    "  tokens=[]\n",
    "  sample=[]\n",
    "  for word in test_words:\n",
    "      if word in vocab_to_int:\n",
    "          sample.append(word)\n",
    "  tokens.append([vocab_to_int[word] for word in sample])\n",
    "  return tokens"
   ]
  },
  {
   "cell_type": "code",
   "execution_count": 0,
   "metadata": {
    "colab": {},
    "colab_type": "code",
    "id": "DsopvIMntPlA"
   },
   "outputs": [],
   "source": [
    "def predict(model,sentence,sequence_length=200):\n",
    "  #model.cuda()\n",
    "  #disable the gradient calculation to speedup the calculation, since we are only using for prediction\n",
    "  model.eval()\n",
    "  \n",
    "  test_ints=tokenize_sentence(sentence)\n",
    "  features=featuresPadding(test_ints,sequence_length)\n",
    "  feature_tensor=torch.from_numpy(features)\n",
    "  batch_size=feature_tensor.size(0)\n",
    "  \n",
    "  hidden_state=model.initialize_hidden_state(batch_size)\n",
    "  feature_tensor=feature_tensor.cuda().long()\n",
    "  output,hidden_state=model(feature_tensor,hidden_state)\n",
    "  prediction=torch.round(output.squeeze())\n",
    "  if(prediction.item()==0):\n",
    "    print(\"{:.4f}\\t Negative sentence!\".format(output.item()))\n",
    "  else:\n",
    "    print(\"{:.4f}\\t Positive sentence!\".format(output.item()))"
   ]
  },
  {
   "cell_type": "code",
   "execution_count": 0,
   "metadata": {
    "colab": {},
    "colab_type": "code",
    "id": "FjWzX3q1tPlE"
   },
   "outputs": [],
   "source": [
    "#location of preprocessed data\n",
    "features_location='ProcessedFeatures.npy'\n",
    "label_location='ProcessedEncodedLabels.npy'\n",
    "vocab_dict_location='ProcessedVocabToInt.npy'"
   ]
  },
  {
   "cell_type": "code",
   "execution_count": 0,
   "metadata": {
    "colab": {},
    "colab_type": "code",
    "id": "pr6PlEmYtPlI"
   },
   "outputs": [],
   "source": [
    "# Load the preprocessed data, Features=Inputs, Labels=Actual Outputs, VocabToInt=Word to integer mapping\n",
    "features=loadNumpyArray(features_location)\n",
    "encoded_labels=loadNumpyArray(label_location)\n",
    "vocab_to_int=loadDict(vocab_dict_location)"
   ]
  },
  {
   "cell_type": "code",
   "execution_count": 0,
   "metadata": {
    "colab": {},
    "colab_type": "code",
    "id": "lFqJK4UttPlN"
   },
   "outputs": [],
   "source": [
    "#set the input sequence length to 200\n",
    "seq_length=200"
   ]
  },
  {
   "cell_type": "code",
   "execution_count": 0,
   "metadata": {
    "colab": {},
    "colab_type": "code",
    "id": "wihqQwxFtPlU"
   },
   "outputs": [],
   "source": [
    "#Create Train, Test, Validation set with 80% data into train set, and rest 20% divided into equal half for Test and Validation\n",
    "train_x,train_y,test_x,test_y,val_x,val_y=createTrainTestValidateData(0.8,features,encoded_labels)"
   ]
  },
  {
   "cell_type": "code",
   "execution_count": 0,
   "metadata": {
    "colab": {},
    "colab_type": "code",
    "id": "k7JxPd3ltPlc"
   },
   "outputs": [],
   "source": [
    "# Convert to tensor\n",
    "train_data = TensorDataset(torch.from_numpy(train_x), torch.from_numpy(train_y))\n",
    "validation_data = TensorDataset(torch.from_numpy(val_x), torch.from_numpy(val_y))\n",
    "test_data = TensorDataset(torch.from_numpy(test_x), torch.from_numpy(test_y))\n",
    "\n",
    "batch_size=100\n",
    "train_loader = DataLoader(train_data, shuffle=True, batch_size=batch_size)\n",
    "validation_loader = DataLoader(validation_data, shuffle=True, batch_size=batch_size)\n",
    "test_loader = DataLoader(test_data, shuffle=True, batch_size=batch_size)"
   ]
  },
  {
   "cell_type": "code",
   "execution_count": 0,
   "metadata": {
    "colab": {
     "base_uri": "https://localhost:8080/",
     "height": 72
    },
    "colab_type": "code",
    "id": "7Ge-TjehtPlk",
    "outputId": "6b09d9fc-7103-4e5c-f166-4313847b0bea"
   },
   "outputs": [
    {
     "name": "stdout",
     "output_type": "stream",
     "text": [
      "Training: \t (40000, 200)\n",
      "Validation: \t (5000, 200)\n",
      "Test: \t\t (5000, 200)\n"
     ]
    }
   ],
   "source": [
    "print(\"Training: \\t\",np.shape(train_x))\n",
    "print(\"Validation: \\t\",np.shape(val_x))\n",
    "print(\"Test: \\t\\t\",np.shape(test_x))"
   ]
  },
  {
   "cell_type": "code",
   "execution_count": 0,
   "metadata": {
    "colab": {},
    "colab_type": "code",
    "id": "cuJjsOZltPmG"
   },
   "outputs": [],
   "source": [
    "#Build Network\n",
    "model,criterion,optimizer=buildNetwork()"
   ]
  },
  {
   "cell_type": "code",
   "execution_count": 0,
   "metadata": {
    "colab": {
     "base_uri": "https://localhost:8080/",
     "height": 146
    },
    "colab_type": "code",
    "id": "RqtX787PtPmJ",
    "outputId": "f0929cc3-c7cd-43eb-c82b-42dd0130edb3"
   },
   "outputs": [
    {
     "data": {
      "text/plain": [
       "SentimentNetwork(\n",
       "  (embedding): Embedding(181686, 400)\n",
       "  (lstm): LSTM(400, 256, num_layers=3, batch_first=True, dropout=0.5)\n",
       "  (dropout): Dropout(p=0.5)\n",
       "  (finalLayer): Linear(in_features=256, out_features=1, bias=True)\n",
       "  (sigmoid): Sigmoid()\n",
       ")"
      ]
     },
     "execution_count": 42,
     "metadata": {
      "tags": []
     },
     "output_type": "execute_result"
    }
   ],
   "source": [
    "#Move model to GPU, since Google Colab has been used with GPU enabled\n",
    "model.cuda()"
   ]
  },
  {
   "cell_type": "code",
   "execution_count": 0,
   "metadata": {
    "colab": {},
    "colab_type": "code",
    "id": "mGDoHi61tPmP"
   },
   "outputs": [],
   "source": [
    "print_interval = 100\n",
    "epochs = 20"
   ]
  },
  {
   "cell_type": "code",
   "execution_count": 0,
   "metadata": {
    "colab": {
     "base_uri": "https://localhost:8080/",
     "height": 1000
    },
    "colab_type": "code",
    "id": "R5MwjfhptPmT",
    "outputId": "8cf873dd-349f-48a8-8737-19b033536c44"
   },
   "outputs": [
    {
     "name": "stdout",
     "output_type": "stream",
     "text": [
      "Epoch: 1\tIteration: 100\tTraining Loss: 0.6409116\tValidation Loss: 0.6310162\n",
      "Validation loss decreased  hence saving checkpoint successfully\n",
      "Epoch: 1\tIteration: 200\tTraining Loss: 0.4938466\tValidation Loss: 0.5405232\n",
      "Validation loss decreased  hence saving checkpoint successfully\n",
      "Epoch: 1\tIteration: 300\tTraining Loss: 0.4187748\tValidation Loss: 0.4741382\n",
      "Validation loss decreased  hence saving checkpoint successfully\n",
      "Epoch: 1\tIteration: 400\tTraining Loss: 0.5295486\tValidation Loss: 0.4390899\n",
      "Validation loss decreased  hence saving checkpoint successfully\n",
      "Epoch: 2\tIteration: 500\tTraining Loss: 0.3579498\tValidation Loss: 0.3981382\n",
      "Validation loss decreased  hence saving checkpoint successfully\n",
      "Epoch: 2\tIteration: 600\tTraining Loss: 0.3697390\tValidation Loss: 0.3833222\n",
      "Validation loss decreased  hence saving checkpoint successfully\n",
      "Epoch: 2\tIteration: 700\tTraining Loss: 0.2842821\tValidation Loss: 0.3537847\n",
      "Validation loss decreased  hence saving checkpoint successfully\n",
      "Epoch: 2\tIteration: 800\tTraining Loss: 0.3373912\tValidation Loss: 0.3664070\n",
      "Epoch: 3\tIteration: 900\tTraining Loss: 0.3273340\tValidation Loss: 0.3550954\n",
      "Epoch: 3\tIteration: 1000\tTraining Loss: 0.3641517\tValidation Loss: 0.3617842\n",
      "Epoch: 3\tIteration: 1100\tTraining Loss: 0.3111466\tValidation Loss: 0.3492852\n",
      "Validation loss decreased  hence saving checkpoint successfully\n",
      "Epoch: 3\tIteration: 1200\tTraining Loss: 0.3011726\tValidation Loss: 0.3471850\n",
      "Validation loss decreased  hence saving checkpoint successfully\n",
      "\n",
      "\n",
      "Reducing the learning rate!\n",
      "\n",
      "Epoch: 4\tIteration: 1300\tTraining Loss: 0.2852843\tValidation Loss: 0.3417963\n",
      "Validation loss decreased  hence saving checkpoint successfully\n",
      "Epoch: 4\tIteration: 1400\tTraining Loss: 0.1915018\tValidation Loss: 0.3432700\n",
      "Epoch: 4\tIteration: 1500\tTraining Loss: 0.1669726\tValidation Loss: 0.3415619\n",
      "Validation loss decreased  hence saving checkpoint successfully\n",
      "Epoch: 4\tIteration: 1600\tTraining Loss: 0.1643650\tValidation Loss: 0.3430348\n",
      "Epoch: 5\tIteration: 1700\tTraining Loss: 0.2106061\tValidation Loss: 0.3398889\n",
      "Validation loss decreased  hence saving checkpoint successfully\n",
      "Epoch: 5\tIteration: 1800\tTraining Loss: 0.1404882\tValidation Loss: 0.3354329\n",
      "Validation loss decreased  hence saving checkpoint successfully\n",
      "Epoch: 5\tIteration: 1900\tTraining Loss: 0.1130219\tValidation Loss: 0.3360439\n",
      "Epoch: 5\tIteration: 2000\tTraining Loss: 0.2037523\tValidation Loss: 0.3398515\n",
      "Epoch: 6\tIteration: 2100\tTraining Loss: 0.2496022\tValidation Loss: 0.3366521\n",
      "Epoch: 6\tIteration: 2200\tTraining Loss: 0.1947723\tValidation Loss: 0.3377884\n",
      "Epoch: 6\tIteration: 2300\tTraining Loss: 0.1518145\tValidation Loss: 0.3339793\n",
      "Validation loss decreased  hence saving checkpoint successfully\n",
      "Epoch: 6\tIteration: 2400\tTraining Loss: 0.2121463\tValidation Loss: 0.3361756\n",
      "Epoch: 7\tIteration: 2500\tTraining Loss: 0.2083155\tValidation Loss: 0.3353409\n",
      "Epoch: 7\tIteration: 2600\tTraining Loss: 0.1831770\tValidation Loss: 0.3344999\n",
      "Epoch: 7\tIteration: 2700\tTraining Loss: 0.1125378\tValidation Loss: 0.3326961\n",
      "Validation loss decreased  hence saving checkpoint successfully\n",
      "Epoch: 7\tIteration: 2800\tTraining Loss: 0.1811990\tValidation Loss: 0.3336973\n",
      "Epoch: 8\tIteration: 2900\tTraining Loss: 0.1784146\tValidation Loss: 0.3323375\n",
      "Validation loss decreased  hence saving checkpoint successfully\n",
      "Epoch: 8\tIteration: 3000\tTraining Loss: 0.0905761\tValidation Loss: 0.3322364\n",
      "Validation loss decreased  hence saving checkpoint successfully\n",
      "Epoch: 8\tIteration: 3100\tTraining Loss: 0.1707828\tValidation Loss: 0.3335523\n",
      "Epoch: 8\tIteration: 3200\tTraining Loss: 0.2044033\tValidation Loss: 0.3291482\n",
      "Validation loss decreased  hence saving checkpoint successfully\n",
      "Epoch: 9\tIteration: 3300\tTraining Loss: 0.2087672\tValidation Loss: 0.3306858\n",
      "Epoch: 9\tIteration: 3400\tTraining Loss: 0.1279559\tValidation Loss: 0.3295981\n",
      "Epoch: 9\tIteration: 3500\tTraining Loss: 0.1505526\tValidation Loss: 0.3301006\n",
      "Epoch: 9\tIteration: 3600\tTraining Loss: 0.1876728\tValidation Loss: 0.3311945\n",
      "Epoch: 10\tIteration: 3700\tTraining Loss: 0.1923246\tValidation Loss: 0.3285444\n",
      "Validation loss decreased  hence saving checkpoint successfully\n",
      "Epoch: 10\tIteration: 3800\tTraining Loss: 0.1807820\tValidation Loss: 0.3331996\n",
      "Epoch: 10\tIteration: 3900\tTraining Loss: 0.1255747\tValidation Loss: 0.3273045\n",
      "Validation loss decreased  hence saving checkpoint successfully\n",
      "Epoch: 10\tIteration: 4000\tTraining Loss: 0.0771689\tValidation Loss: 0.3317630\n",
      "Epoch: 11\tIteration: 4100\tTraining Loss: 0.1918450\tValidation Loss: 0.3266459\n",
      "Validation loss decreased  hence saving checkpoint successfully\n",
      "Epoch: 11\tIteration: 4200\tTraining Loss: 0.1375480\tValidation Loss: 0.3285517\n",
      "Epoch: 11\tIteration: 4300\tTraining Loss: 0.1959182\tValidation Loss: 0.3283821\n",
      "Epoch: 11\tIteration: 4400\tTraining Loss: 0.2208972\tValidation Loss: 0.3315913\n",
      "Epoch: 12\tIteration: 4500\tTraining Loss: 0.1818059\tValidation Loss: 0.3289268\n",
      "Epoch: 12\tIteration: 4600\tTraining Loss: 0.0736426\tValidation Loss: 0.3296557\n",
      "Epoch: 12\tIteration: 4700\tTraining Loss: 0.1085411\tValidation Loss: 0.3290294\n",
      "Epoch: 12\tIteration: 4800\tTraining Loss: 0.1732661\tValidation Loss: 0.3287434\n",
      "Epoch: 13\tIteration: 4900\tTraining Loss: 0.2075359\tValidation Loss: 0.3264684\n",
      "Validation loss decreased  hence saving checkpoint successfully\n",
      "Epoch: 13\tIteration: 5000\tTraining Loss: 0.1863580\tValidation Loss: 0.3304021\n",
      "Epoch: 13\tIteration: 5100\tTraining Loss: 0.1743604\tValidation Loss: 0.3327085\n",
      "Epoch: 13\tIteration: 5200\tTraining Loss: 0.2214079\tValidation Loss: 0.3295552\n",
      "Epoch: 14\tIteration: 5300\tTraining Loss: 0.1958887\tValidation Loss: 0.3274568\n",
      "Epoch: 14\tIteration: 5400\tTraining Loss: 0.2065652\tValidation Loss: 0.3324205\n",
      "Epoch: 14\tIteration: 5500\tTraining Loss: 0.2148947\tValidation Loss: 0.3312844\n",
      "Epoch: 14\tIteration: 5600\tTraining Loss: 0.1566016\tValidation Loss: 0.3307428\n",
      "Epoch: 15\tIteration: 5700\tTraining Loss: 0.1616233\tValidation Loss: 0.3328321\n",
      "Epoch: 15\tIteration: 5800\tTraining Loss: 0.1637350\tValidation Loss: 0.3300575\n",
      "Epoch: 15\tIteration: 5900\tTraining Loss: 0.0815195\tValidation Loss: 0.3295477\n",
      "Epoch: 15\tIteration: 6000\tTraining Loss: 0.2555203\tValidation Loss: 0.3310944\n",
      "Epoch: 16\tIteration: 6100\tTraining Loss: 0.1373838\tValidation Loss: 0.3275329\n",
      "Epoch: 16\tIteration: 6200\tTraining Loss: 0.1035387\tValidation Loss: 0.3289170\n",
      "Epoch: 16\tIteration: 6300\tTraining Loss: 0.1396382\tValidation Loss: 0.3289620\n",
      "Epoch: 16\tIteration: 6400\tTraining Loss: 0.1973514\tValidation Loss: 0.3296827\n",
      "Epoch: 17\tIteration: 6500\tTraining Loss: 0.1082630\tValidation Loss: 0.3283946\n",
      "Epoch: 17\tIteration: 6600\tTraining Loss: 0.1865412\tValidation Loss: 0.3311783\n",
      "Epoch: 17\tIteration: 6700\tTraining Loss: 0.1658169\tValidation Loss: 0.3319550\n",
      "Epoch: 17\tIteration: 6800\tTraining Loss: 0.0932972\tValidation Loss: 0.3296738\n",
      "Epoch: 18\tIteration: 6900\tTraining Loss: 0.1778122\tValidation Loss: 0.3338579\n",
      "Epoch: 18\tIteration: 7000\tTraining Loss: 0.0865773\tValidation Loss: 0.3309076\n",
      "Epoch: 18\tIteration: 7100\tTraining Loss: 0.1634359\tValidation Loss: 0.3310143\n",
      "Epoch: 18\tIteration: 7200\tTraining Loss: 0.1468602\tValidation Loss: 0.3306011\n",
      "Epoch: 19\tIteration: 7300\tTraining Loss: 0.2250934\tValidation Loss: 0.3314275\n",
      "Epoch: 19\tIteration: 7400\tTraining Loss: 0.1819504\tValidation Loss: 0.3305684\n",
      "Epoch: 19\tIteration: 7500\tTraining Loss: 0.1434057\tValidation Loss: 0.3340919\n",
      "Epoch: 19\tIteration: 7600\tTraining Loss: 0.1204693\tValidation Loss: 0.3328384\n",
      "Epoch: 20\tIteration: 7700\tTraining Loss: 0.2181827\tValidation Loss: 0.3313213\n",
      "Epoch: 20\tIteration: 7800\tTraining Loss: 0.2679305\tValidation Loss: 0.3353497\n",
      "Epoch: 20\tIteration: 7900\tTraining Loss: 0.1270612\tValidation Loss: 0.3315550\n",
      "Epoch: 20\tIteration: 8000\tTraining Loss: 0.1602916\tValidation Loss: 0.3333786\n"
     ]
    },
    {
     "data": {
      "image/png": "[encoded data removed]",
      "text/plain": [
       "<Figure size 432x288 with 1 Axes>"
      ]
     },
     "metadata": {
      "tags": []
     },
     "output_type": "display_data"
    },
    {
     "name": "stdout",
     "output_type": "stream",
     "text": [
      "\n",
      "\n",
      "Training Time: 19.56415031750997 minutes\n"
     ]
    }
   ],
   "source": [
    "import time\n",
    "start_time=time.time()\n",
    "trainNetwork(model,epochs,print_interval,criterion,optimizer)\n",
    "print(\"\\n\\nTraining Time: {} minutes\".format((time.time()-start_time)/60))"
   ]
  },
  {
   "cell_type": "code",
   "execution_count": 0,
   "metadata": {
    "colab": {},
    "colab_type": "code",
    "id": "wV7zn5YNtPmX"
   },
   "outputs": [],
   "source": [
    "#Checkpoint Saving Location\n",
    "fileLocation='/content/drive/My Drive/SEM-IV Project/SentimentAnalysisCheckpoint.pth'"
   ]
  },
  {
   "cell_type": "code",
   "execution_count": 0,
   "metadata": {
    "colab": {
     "base_uri": "https://localhost:8080/",
     "height": 35
    },
    "colab_type": "code",
    "id": "-ZdA0KAttPmc",
    "outputId": "e6641a9c-7022-4788-f847-5e03bdb5f015"
   },
   "outputs": [
    {
     "name": "stdout",
     "output_type": "stream",
     "text": [
      "Accuracy: 0.8616\n"
     ]
    }
   ],
   "source": [
    "# Accuracy on Test Data for Overfitted model\n",
    "checkAccuracy(model,test_loader)"
   ]
  },
  {
   "cell_type": "code",
   "execution_count": 0,
   "metadata": {
    "colab": {
     "base_uri": "https://localhost:8080/",
     "height": 34
    },
    "colab_type": "code",
    "id": "0XAi2jy5431o",
    "outputId": "eed9585b-6456-4a6f-97e4-fba76a1848ac"
   },
   "outputs": [
    {
     "data": {
      "text/plain": [
       "<function torch.cuda.empty_cache>"
      ]
     },
     "execution_count": 28,
     "metadata": {
      "tags": []
     },
     "output_type": "execute_result"
    }
   ],
   "source": [
    "# Clear the CUDA Cache to clear GPU Memory\n",
    "torch.cuda.empty_cache"
   ]
  },
  {
   "cell_type": "code",
   "execution_count": 0,
   "metadata": {
    "colab": {},
    "colab_type": "code",
    "id": "GHTHvShF44Md"
   },
   "outputs": [],
   "source": [
    "# Load the Saved Model \n",
    "model,criterion=load_Checkpoint('checkpoint.pth')"
   ]
  },
  {
   "cell_type": "code",
   "execution_count": 0,
   "metadata": {
    "colab": {
     "base_uri": "https://localhost:8080/",
     "height": 34
    },
    "colab_type": "code",
    "id": "KQr4MCDT52wE",
    "outputId": "395297db-6fff-4133-fe43-51143cde4f4b"
   },
   "outputs": [
    {
     "name": "stdout",
     "output_type": "stream",
     "text": [
      "Accuracy: 0.8578\n"
     ]
    }
   ],
   "source": [
    "# Accuracy on test data for saved model when validatio loss was decreased\n",
    "checkAccuracy(model,test_loader)"
   ]
  },
  {
   "cell_type": "code",
   "execution_count": 0,
   "metadata": {
    "colab": {
     "base_uri": "https://localhost:8080/",
     "height": 187
    },
    "colab_type": "code",
    "id": "t1iP7CMd444C",
    "outputId": "0dbe4b16-487c-4212-ba02-58c8fb67c0d6"
   },
   "outputs": [
    {
     "name": "stdout",
     "output_type": "stream",
     "text": [
      "total 334020\n",
      "-rw-r--r-- 1 root root 297606517 Jun 21 07:32 checkpoint.pth\n",
      "drwx------ 3 root root      4096 Jun 21 06:25 drive\n",
      "-rw-r--r-- 1 root root      2865 Jun 21 06:25 myModelHelper.py\n",
      "-rw-r--r-- 1 root root       275 Jun 21 06:25 processedDataHelper.py\n",
      "-rw-r--r-- 1 root root    200128 Jun 21 06:25 ProcessedEncodedLabels.npy\n",
      "-rw-r--r-- 1 root root  40000128 Jun 21 06:32 ProcessedFeatures.npy\n",
      "-rw-r--r-- 1 root root   4199760 Jun 21 06:26 ProcessedVocabToInt.npy\n",
      "drwxr-xr-x 2 root root      4096 Jun 21 06:26 __pycache__\n",
      "drwxr-xr-x 1 root root      4096 Jun 18 16:14 sample_data\n"
     ]
    }
   ],
   "source": [
    "!ls -l"
   ]
  }
 ],
 "metadata": {
  "accelerator": "GPU",
  "colab": {
   "name": "Sentiment Analysis 21 June.ipynb",
   "provenance": [],
   "version": "0.3.2"
  },
  "kernelspec": {
   "display_name": "Python 3",
   "language": "python",
   "name": "python3"
  },
  "language_info": {
   "codemirror_mode": {
    "name": "ipython",
    "version": 3
   },
   "file_extension": ".py",
   "mimetype": "text/x-python",
   "name": "python",
   "nbconvert_exporter": "python",
   "pygments_lexer": "ipython3",
   "version": "3.7.0"
  }
 },
 "nbformat": 4,
 "nbformat_minor": 1
}
